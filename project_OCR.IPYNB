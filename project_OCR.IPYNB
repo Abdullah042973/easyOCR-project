{
 "cells": [
  {
   "cell_type": "code",
   "execution_count": 1,
   "metadata": {},
   "outputs": [
    {
     "name": "stdout",
     "output_type": "stream",
     "text": [
      "Requirement already satisfied: torch in c:\\python310\\lib\\site-packages (1.11.0)"
     ]
    },
    {
     "name": "stderr",
     "output_type": "stream",
     "text": [
      "WARNING: You are using pip version 21.2.4; however, version 22.1 is available.\n",
      "You should consider upgrading via the 'C:\\Python310\\python.exe -m pip install --upgrade pip' command.\n"
     ]
    },
    {
     "name": "stdout",
     "output_type": "stream",
     "text": [
      "\n",
      "Requirement already satisfied: torchvision in c:\\python310\\lib\\site-packages (0.12.0)\n",
      "Requirement already satisfied: torchaudio in c:\\python310\\lib\\site-packages (0.11.0)\n",
      "Requirement already satisfied: typing-extensions in c:\\python310\\lib\\site-packages (from torch) (4.2.0)\n",
      "Requirement already satisfied: requests in c:\\python310\\lib\\site-packages (from torchvision) (2.27.1)\n",
      "Requirement already satisfied: numpy in c:\\python310\\lib\\site-packages (from torchvision) (1.22.3)\n",
      "Requirement already satisfied: pillow!=8.3.*,>=5.3.0 in c:\\python310\\lib\\site-packages (from torchvision) (9.1.0)\n",
      "Requirement already satisfied: certifi>=2017.4.17 in c:\\python310\\lib\\site-packages (from requests->torchvision) (2021.10.8)\n",
      "Requirement already satisfied: idna<4,>=2.5 in c:\\python310\\lib\\site-packages (from requests->torchvision) (3.3)\n",
      "Requirement already satisfied: urllib3<1.27,>=1.21.1 in c:\\python310\\lib\\site-packages (from requests->torchvision) (1.26.9)\n",
      "Requirement already satisfied: charset-normalizer~=2.0.0 in c:\\python310\\lib\\site-packages (from requests->torchvision) (2.0.12)\n",
      "Collecting easyocr\n",
      "  Using cached easyocr-1.4.2-py3-none-any.whl (70.8 MB)\n",
      "Collecting scikit-image\n",
      "  Using cached scikit_image-0.19.2-cp310-cp310-win_amd64.whl (12.6 MB)\n",
      "Requirement already satisfied: numpy in c:\\python310\\lib\\site-packages (from easyocr) (1.22.3)\n",
      "Collecting PyYAML\n",
      "  Using cached PyYAML-6.0-cp310-cp310-win_amd64.whl (151 kB)\n",
      "Collecting python-bidi\n",
      "  Using cached python_bidi-0.4.2-py2.py3-none-any.whl (30 kB)\n",
      "Requirement already satisfied: scipy in c:\\python310\\lib\\site-packages (from easyocr) (1.8.0)\n",
      "Requirement already satisfied: Pillow in c:\\python310\\lib\\site-packages (from easyocr) (9.1.0)\n",
      "Requirement already satisfied: torchvision>=0.5 in c:\\python310\\lib\\site-packages (from easyocr) (0.12.0)\n",
      "Collecting opencv-python-headless<=4.5.4.60\n",
      "  Using cached opencv_python_headless-4.5.4.60-cp310-cp310-win_amd64.whl (35.0 MB)\n",
      "Requirement already satisfied: torch in c:\\python310\\lib\\site-packages (from easyocr) (1.11.0)\n",
      "Requirement already satisfied: typing-extensions in c:\\python310\\lib\\site-packages (from torchvision>=0.5->easyocr) (4.2.0)\n",
      "Requirement already satisfied: requests in c:\\python310\\lib\\site-packages (from torchvision>=0.5->easyocr) (2.27.1)\n",
      "Requirement already satisfied: six in c:\\users\\merae\\appdata\\roaming\\python\\python310\\site-packages (from python-bidi->easyocr) (1.16.0)\n",
      "Requirement already satisfied: certifi>=2017.4.17 in c:\\python310\\lib\\site-packages (from requests->torchvision>=0.5->easyocr) (2021.10.8)\n",
      "Requirement already satisfied: urllib3<1.27,>=1.21.1 in c:\\python310\\lib\\site-packages (from requests->torchvision>=0.5->easyocr) (1.26.9)\n",
      "Requirement already satisfied: charset-normalizer~=2.0.0 in c:\\python310\\lib\\site-packages (from requests->torchvision>=0.5->easyocr) (2.0.12)\n",
      "Requirement already satisfied: idna<4,>=2.5 in c:\\python310\\lib\\site-packages (from requests->torchvision>=0.5->easyocr) (3.3)\n",
      "Collecting imageio>=2.4.1\n",
      "  Using cached imageio-2.19.2-py3-none-any.whl (3.4 MB)\n",
      "Requirement already satisfied: packaging>=20.0 in c:\\users\\merae\\appdata\\roaming\\python\\python310\\site-packages (from scikit-image->easyocr) (21.3)\n",
      "Requirement already satisfied: tifffile>=2019.7.26 in c:\\python310\\lib\\site-packages (from scikit-image->easyocr) (2022.5.4)\n",
      "Collecting PyWavelets>=1.1.1\n",
      "  Using cached PyWavelets-1.3.0-cp310-cp310-win_amd64.whl (4.2 MB)\n",
      "Collecting networkx>=2.2\n",
      "  Using cached networkx-2.8.1-py3-none-any.whl (2.0 MB)\n",
      "Requirement already satisfied: pyparsing!=3.0.5,>=2.0.2 in c:\\users\\merae\\appdata\\roaming\\python\\python310\\site-packages (from packaging>=20.0->scikit-image->easyocr) (3.0.7)\n",
      "Installing collected packages: PyWavelets, networkx, imageio, scikit-image, PyYAML, python-bidi, opencv-python-headless, easyocr\n"
     ]
    },
    {
     "name": "stderr",
     "output_type": "stream",
     "text": [
      "ERROR: Could not install packages due to an OSError: [WinError 5] Access is denied: 'C:\\\\Python310\\\\share\\\\doc'\n",
      "Consider using the `--user` option or check the permissions.\n",
      "\n",
      "WARNING: You are using pip version 21.2.4; however, version 22.1 is available.\n",
      "You should consider upgrading via the 'C:\\Python310\\python.exe -m pip install --upgrade pip' command.\n"
     ]
    }
   ],
   "source": [
    "!pip3 install torch torchvision torchaudio\n",
    "!pip3 install easyocr"
   ]
  },
  {
   "cell_type": "code",
   "execution_count": 2,
   "metadata": {},
   "outputs": [
    {
     "ename": "ModuleNotFoundError",
     "evalue": "No module named 'easyocr'",
     "output_type": "error",
     "traceback": [
      "\u001b[1;31m---------------------------------------------------------------------------\u001b[0m",
      "\u001b[1;31mModuleNotFoundError\u001b[0m                       Traceback (most recent call last)",
      "\u001b[1;32md:\\ABDULLAH\\Projects\\project OCR\\project_OCR.IPYNB Cell 2'\u001b[0m in \u001b[0;36m<cell line: 1>\u001b[1;34m()\u001b[0m\n\u001b[1;32m----> <a href='vscode-notebook-cell:/d%3A/ABDULLAH/Projects/project%20OCR/project_OCR.IPYNB#ch0000001?line=0'>1</a>\u001b[0m \u001b[39mimport\u001b[39;00m \u001b[39measyocr\u001b[39;00m\n\u001b[0;32m      <a href='vscode-notebook-cell:/d%3A/ABDULLAH/Projects/project%20OCR/project_OCR.IPYNB#ch0000001?line=1'>2</a>\u001b[0m \u001b[39mimport\u001b[39;00m \u001b[39mcv2\u001b[39;00m\n\u001b[0;32m      <a href='vscode-notebook-cell:/d%3A/ABDULLAH/Projects/project%20OCR/project_OCR.IPYNB#ch0000001?line=2'>3</a>\u001b[0m \u001b[39mfrom\u001b[39;00m \u001b[39mmatplotlib\u001b[39;00m \u001b[39mimport\u001b[39;00m pyplot \u001b[39mas\u001b[39;00m plt\n",
      "\u001b[1;31mModuleNotFoundError\u001b[0m: No module named 'easyocr'"
     ]
    }
   ],
   "source": [
    "import easyocr\n",
    "import cv2\n",
    "from matplotlib import pyplot as plt\n",
    "import numpy as np"
   ]
  },
  {
   "cell_type": "code",
   "execution_count": null,
   "metadata": {},
   "outputs": [],
   "source": []
  }
 ],
 "metadata": {
  "interpreter": {
   "hash": "2be5faf79681da6f2a61fdfdd5405d65d042280f7fba6178067603e3a2925119"
  },
  "kernelspec": {
   "display_name": "Python 3.10.2 64-bit",
   "language": "python",
   "name": "python3"
  },
  "language_info": {
   "codemirror_mode": {
    "name": "ipython",
    "version": 3
   },
   "file_extension": ".py",
   "mimetype": "text/x-python",
   "name": "python",
   "nbconvert_exporter": "python",
   "pygments_lexer": "ipython3",
   "version": "3.10.2"
  },
  "orig_nbformat": 4
 },
 "nbformat": 4,
 "nbformat_minor": 2
}
