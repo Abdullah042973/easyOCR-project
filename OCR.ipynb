{
 "cells": [
  {
   "cell_type": "code",
   "execution_count": 12,
   "id": "5b5d240f",
   "metadata": {},
   "outputs": [
    {
     "name": "stdout",
     "output_type": "stream",
     "text": [
      "Collecting easyocr\n",
      "  Using cached easyocr-1.4.2-py3-none-any.whl (70.8 MB)\n",
      "Requirement already satisfied: scipy in c:\\python310\\lib\\site-packages (from easyocr) (1.8.0)\n",
      "Requirement already satisfied: torchvision>=0.5 in c:\\python310\\lib\\site-packages (from easyocr) (0.12.0)\n",
      "Requirement already satisfied: torch in c:\\python310\\lib\\site-packages (from easyocr) (1.11.0)\n",
      "Requirement already satisfied: scikit-image in c:\\python310\\lib\\site-packages (from easyocr) (0.19.2)\n",
      "Requirement already satisfied: numpy in c:\\python310\\lib\\site-packages (from easyocr) (1.22.3)\n",
      "Requirement already satisfied: Pillow in c:\\python310\\lib\\site-packages (from easyocr) (9.1.0)\n",
      "Collecting python-bidi\n",
      "  Using cached python_bidi-0.4.2-py2.py3-none-any.whl (30 kB)\n",
      "Collecting opencv-python-headless<=4.5.4.60\n",
      "  Using cached opencv_python_headless-4.5.4.60-cp310-cp310-win_amd64.whl (35.0 MB)\n",
      "Collecting PyYAML\n",
      "  Using cached PyYAML-6.0-cp310-cp310-win_amd64.whl (151 kB)\n",
      "Requirement already satisfied: typing-extensions in c:\\python310\\lib\\site-packages (from torchvision>=0.5->easyocr) (4.2.0)\n",
      "Requirement already satisfied: requests in c:\\python310\\lib\\site-packages (from torchvision>=0.5->easyocr) (2.27.1)\n",
      "Requirement already satisfied: six in c:\\users\\merae\\appdata\\roaming\\python\\python310\\site-packages (from python-bidi->easyocr) (1.16.0)\n",
      "Requirement already satisfied: certifi>=2017.4.17 in c:\\python310\\lib\\site-packages (from requests->torchvision>=0.5->easyocr) (2021.10.8)\n",
      "Requirement already satisfied: urllib3<1.27,>=1.21.1 in c:\\python310\\lib\\site-packages (from requests->torchvision>=0.5->easyocr) (1.26.9)\n",
      "Requirement already satisfied: idna<4,>=2.5 in c:\\python310\\lib\\site-packages (from requests->torchvision>=0.5->easyocr) (3.3)\n",
      "Requirement already satisfied: charset-normalizer~=2.0.0 in c:\\python310\\lib\\site-packages (from requests->torchvision>=0.5->easyocr) (2.0.12)\n",
      "Requirement already satisfied: networkx>=2.2 in c:\\python310\\lib\\site-packages (from scikit-image->easyocr) (2.8.1)\n",
      "Requirement already satisfied: tifffile>=2019.7.26 in c:\\python310\\lib\\site-packages (from scikit-image->easyocr) (2022.5.4)\n",
      "Requirement already satisfied: imageio>=2.4.1 in c:\\python310\\lib\\site-packages (from scikit-image->easyocr) (2.19.2)\n",
      "Requirement already satisfied: packaging>=20.0 in c:\\users\\merae\\appdata\\roaming\\python\\python310\\site-packages (from scikit-image->easyocr) (21.3)\n",
      "Requirement already satisfied: PyWavelets>=1.1.1 in c:\\python310\\lib\\site-packages (from scikit-image->easyocr) (1.3.0)\n",
      "Requirement already satisfied: pyparsing!=3.0.5,>=2.0.2 in c:\\users\\merae\\appdata\\roaming\\python\\python310\\site-packages (from packaging>=20.0->scikit-image->easyocr) (3.0.7)\n",
      "Installing collected packages: PyYAML, python-bidi, opencv-python-headless, easyocr\n"
     ]
    },
    {
     "name": "stderr",
     "output_type": "stream",
     "text": [
      "  WARNING: Failed to write executable - trying to use .deleteme logic\n",
      "ERROR: Could not install packages due to an OSError: [WinError 2] The system cannot find the file specified: 'C:\\\\Python310\\\\Scripts\\\\pybidi.exe' -> 'C:\\\\Python310\\\\Scripts\\\\pybidi.exe.deleteme'\n",
      "\n",
      "WARNING: You are using pip version 21.2.4; however, version 22.1 is available.\n",
      "You should consider upgrading via the 'C:\\Python310\\python.exe -m pip install --upgrade pip' command.\n"
     ]
    },
    {
     "name": "stdout",
     "output_type": "stream",
     "text": [
      "Requirement already satisfied: opencv-python in c:\\python310\\lib\\site-packages (4.5.5.64)\n",
      "Requirement already satisfied: numpy>=1.14.5 in c:\\python310\\lib\\site-packages (from opencv-python) (1.22.3)\n"
     ]
    },
    {
     "name": "stderr",
     "output_type": "stream",
     "text": [
      "WARNING: You are using pip version 21.2.4; however, version 22.1 is available.\n",
      "You should consider upgrading via the 'C:\\Python310\\python.exe -m pip install --upgrade pip' command.\n"
     ]
    },
    {
     "name": "stdout",
     "output_type": "stream",
     "text": [
      "Collecting easyocr\n",
      "  Using cached easyocr-1.4.2-py3-none-any.whl (70.8 MB)\n",
      "Requirement already satisfied: Pillow in c:\\python310\\lib\\site-packages (from easyocr) (9.1.0)\n",
      "Collecting opencv-python-headless<=4.5.4.60\n",
      "  Using cached opencv_python_headless-4.5.4.60-cp310-cp310-win_amd64.whl (35.0 MB)\n",
      "Requirement already satisfied: python-bidi in c:\\python310\\lib\\site-packages (from easyocr) (0.4.2)\n",
      "Requirement already satisfied: torch in c:\\python310\\lib\\site-packages (from easyocr) (1.11.0)\n",
      "Requirement already satisfied: PyYAML in c:\\python310\\lib\\site-packages (from easyocr) (6.0)\n",
      "Requirement already satisfied: scikit-image in c:\\python310\\lib\\site-packages (from easyocr) (0.19.2)\n",
      "Requirement already satisfied: scipy in c:\\python310\\lib\\site-packages (from easyocr) (1.8.0)\n",
      "Requirement already satisfied: torchvision>=0.5 in c:\\python310\\lib\\site-packages (from easyocr) (0.12.0)\n",
      "Requirement already satisfied: numpy in c:\\python310\\lib\\site-packages (from easyocr) (1.22.3)\n",
      "Requirement already satisfied: requests in c:\\python310\\lib\\site-packages (from torchvision>=0.5->easyocr) (2.27.1)\n",
      "Requirement already satisfied: typing-extensions in c:\\python310\\lib\\site-packages (from torchvision>=0.5->easyocr) (4.2.0)\n",
      "Requirement already satisfied: six in c:\\users\\merae\\appdata\\roaming\\python\\python310\\site-packages (from python-bidi->easyocr) (1.16.0)\n",
      "Requirement already satisfied: idna<4,>=2.5 in c:\\python310\\lib\\site-packages (from requests->torchvision>=0.5->easyocr) (3.3)\n",
      "Requirement already satisfied: certifi>=2017.4.17 in c:\\python310\\lib\\site-packages (from requests->torchvision>=0.5->easyocr) (2021.10.8)\n",
      "Requirement already satisfied: urllib3<1.27,>=1.21.1 in c:\\python310\\lib\\site-packages (from requests->torchvision>=0.5->easyocr) (1.26.9)\n",
      "Requirement already satisfied: charset-normalizer~=2.0.0 in c:\\python310\\lib\\site-packages (from requests->torchvision>=0.5->easyocr) (2.0.12)\n",
      "Requirement already satisfied: PyWavelets>=1.1.1 in c:\\python310\\lib\\site-packages (from scikit-image->easyocr) (1.3.0)\n",
      "Requirement already satisfied: tifffile>=2019.7.26 in c:\\python310\\lib\\site-packages (from scikit-image->easyocr) (2022.5.4)\n",
      "Requirement already satisfied: packaging>=20.0 in c:\\users\\merae\\appdata\\roaming\\python\\python310\\site-packages (from scikit-image->easyocr) (21.3)\n",
      "Requirement already satisfied: networkx>=2.2 in c:\\python310\\lib\\site-packages (from scikit-image->easyocr) (2.8.1)\n",
      "Requirement already satisfied: imageio>=2.4.1 in c:\\python310\\lib\\site-packages (from scikit-image->easyocr) (2.19.2)\n",
      "Requirement already satisfied: pyparsing!=3.0.5,>=2.0.2 in c:\\users\\merae\\appdata\\roaming\\python\\python310\\site-packages (from packaging>=20.0->scikit-image->easyocr) (3.0.7)\n",
      "Installing collected packages: opencv-python-headless, easyocr\n"
     ]
    },
    {
     "name": "stderr",
     "output_type": "stream",
     "text": [
      "  WARNING: Failed to write executable - trying to use .deleteme logic\n",
      "ERROR: Could not install packages due to an OSError: [WinError 2] The system cannot find the file specified: 'C:\\\\Python310\\\\Scripts\\\\easyocr.exe' -> 'C:\\\\Python310\\\\Scripts\\\\easyocr.exe.deleteme'\n",
      "\n",
      "WARNING: You are using pip version 21.2.4; however, version 22.1 is available.\n",
      "You should consider upgrading via the 'C:\\Python310\\python.exe -m pip install --upgrade pip' command.\n"
     ]
    }
   ],
   "source": [
    "!pip install easyocr\n",
    "!pip install opencv-python\n",
    "!pip install easyocr"
   ]
  },
  {
   "cell_type": "code",
   "execution_count": 13,
   "id": "1414843f",
   "metadata": {},
   "outputs": [],
   "source": [
    "import easyocr\n",
    "import cv2\n",
    "from matplotlib import pyplot as plt\n",
    "import numpy as np"
   ]
  },
  {
   "cell_type": "code",
   "execution_count": null,
   "id": "f3621c43",
   "metadata": {},
   "outputs": [],
   "source": []
  }
 ],
 "metadata": {
  "kernelspec": {
   "display_name": "Python 3 (ipykernel)",
   "language": "python",
   "name": "python3"
  },
  "language_info": {
   "codemirror_mode": {
    "name": "ipython",
    "version": 3
   },
   "file_extension": ".py",
   "mimetype": "text/x-python",
   "name": "python",
   "nbconvert_exporter": "python",
   "pygments_lexer": "ipython3",
   "version": "3.10.2"
  }
 },
 "nbformat": 4,
 "nbformat_minor": 5
}
